{
  "nbformat": 4,
  "nbformat_minor": 0,
  "metadata": {
    "colab": {
      "provenance": []
    },
    "kernelspec": {
      "name": "python3",
      "display_name": "Python 3"
    },
    "language_info": {
      "name": "python"
    }
  },
  "cells": [
    {
      "cell_type": "markdown",
      "source": [
        "This notebook compares the Phenotype Score calculation implementation of FERMO versus Bioactivity-Based Molecular Networking (BioMN), specifically investigating the effect of sample size on the significance of the calculation (p-value).\n",
        "For this demonstration, the molecular feature with m/z 563.296 at RT 21.5 min was taken, which was proven to be co-responsible for the observed phenotype by the BioMN publication."
      ],
      "metadata": {
        "id": "QYIgZEUUAz5S"
      }
    },
    {
      "cell_type": "code",
      "source": [
        "!pip install -q scipy numpy"
      ],
      "metadata": {
        "id": "v0mdM0tAHw_l"
      },
      "execution_count": 3,
      "outputs": []
    },
    {
      "cell_type": "code",
      "execution_count": 4,
      "metadata": {
        "id": "MNghY0RYHpIR"
      },
      "outputs": [],
      "source": [
        "from scipy.stats import pearsonr"
      ]
    },
    {
      "cell_type": "code",
      "source": [
        "fermo_563_21_activ = [16.0, 57.0, 140.0, 17.0, 5.0, 10.5, 68.0]\n",
        "fermo_563_21_area = [22080.0, 95660.0, 3017000.0, 146400.0, 209200.0, 250600.0, 1258000.0]\n",
        "\n",
        "bioMN_563_21_activ = [68, 1, 4, 1, 3, 19, 8, 16, 41, 140, 17, 10.5, 5, 57]\n",
        "bioMN_563_21_area = [67070302.13, 0, 0, 0, 0, 0, 0, 1975562.5, 31625.60742, 170314273.7, 8940636.965, 10201220.78, 2744461.127, 5524503.326]\n",
        "\n",
        "pearson_s, p_val = pearsonr(fermo_563_21_area, fermo_563_21_activ)\n",
        "print(f\"FERMO's pearson correlation: {pearson_s}\")\n",
        "print(f\"FERMO's p-val: {p_val}\")\n",
        "\n",
        "pearson_s, p_val = pearsonr(bioMN_563_21_area, bioMN_563_21_activ)\n",
        "print(f\"BioMN's pearson correlation: {pearson_s}\")\n",
        "print(f\"BioMN's p-val: {p_val}\")"
      ],
      "metadata": {
        "id": "SY7WhqMDH8Wr",
        "colab": {
          "base_uri": "https://localhost:8080/"
        },
        "outputId": "763fe3de-76ff-46fd-f31a-8326ec9ba08b"
      },
      "execution_count": 7,
      "outputs": [
        {
          "output_type": "stream",
          "name": "stdout",
          "text": [
            "FERMO's pearson correlation: 0.925249569559756\n",
            "FERMO's p-val: 0.002817548091649315\n",
            "BioMN's pearson correlation: 0.9156924207775412\n",
            "BioMN's p-val: 4.3142761865907734e-06\n"
          ]
        }
      ]
    },
    {
      "cell_type": "markdown",
      "source": [
        "To prove the effect of the increased number of samples on the significance of the calculation, lets add the difference in values to the FERMO approach"
      ],
      "metadata": {
        "id": "8n_EniC7dujd"
      }
    },
    {
      "cell_type": "code",
      "source": [
        "fermo_563_21_activ = [16.0, 57.0, 140.0, 17.0, 5.0, 10.5, 68.0, 1, 4, 1, 3, 19, 8]\n",
        "fermo_563_21_area = [22080.0, 95660.0, 3017000.0, 146400.0, 209200.0, 250600.0, 1258000.0, 0, 0, 0, 0, 0, 0]\n",
        "pearson_s, p_val = pearsonr(fermo_563_21_area, fermo_563_21_activ)\n",
        "print(f\"FERMO's pearson correlation with more values: {pearson_s}\")\n",
        "print(f\"FERMO's p-val with more values: {p_val}\")"
      ],
      "metadata": {
        "colab": {
          "base_uri": "https://localhost:8080/"
        },
        "id": "lmToIcLyd6nX",
        "outputId": "e5d9f4dd-2869-4d03-e111-0a6cb442d101"
      },
      "execution_count": 8,
      "outputs": [
        {
          "output_type": "stream",
          "name": "stdout",
          "text": [
            "FERMO's pearson correlation with more values: 0.9323354044529782\n",
            "FERMO's p-val with more values: 3.4462663327822203e-06\n"
          ]
        }
      ]
    },
    {
      "cell_type": "markdown",
      "source": [
        "Let's do it the other way around and remove the null-values from BioMN's approach"
      ],
      "metadata": {
        "id": "G0HjhjEnCasA"
      }
    },
    {
      "cell_type": "code",
      "source": [
        "bioMN_563_21_activ = [68, 16, 41, 140, 17, 10.5, 5, 57]\n",
        "bioMN_563_21_area = [67070302.13, 1975562.5, 31625.60742, 170314273.7, 8940636.965, 10201220.78, 2744461.127, 5524503.326]\n",
        "pearson_s, p_val = pearsonr(bioMN_563_21_area, bioMN_563_21_activ)\n",
        "print(f\"BioMN's pearson correlation: {pearson_s}\")\n",
        "print(f\"BioMN's p-val: {p_val}\")"
      ],
      "metadata": {
        "colab": {
          "base_uri": "https://localhost:8080/"
        },
        "id": "BmSSgn71C2Uz",
        "outputId": "00fc6a07-fb1c-4028-9387-c1979d784a58"
      },
      "execution_count": 10,
      "outputs": [
        {
          "output_type": "stream",
          "name": "stdout",
          "text": [
            "BioMN's pearson correlation: 0.9184969137058843\n",
            "BioMN's p-val: 0.0012721242841522702\n"
          ]
        }
      ]
    }
  ]
}